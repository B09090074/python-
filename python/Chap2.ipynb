{
 "cells": [
  {
   "cell_type": "markdown",
   "metadata": {},
   "source": [
    "# Chap2 流程控制"
   ]
  },
  {
   "cell_type": "markdown",
   "metadata": {},
   "source": [
    "## if else , elif"
   ]
  },
  {
   "cell_type": "code",
   "execution_count": null,
   "metadata": {},
   "outputs": [],
   "source": [
    "a=3\n",
    "b=4\n",
    "if a <= b: #if 3<=4 \n",
    "    \n",
    "    print(\"b是比較大的數字\") #true\n",
    "else: \n",
    "    print(\"a是比較大的數字\") #fluse"
   ]
  },
  {
   "cell_type": "markdown",
   "metadata": {},
   "source": [
    "### 成績評鑑"
   ]
  },
  {
   "cell_type": "code",
   "execution_count": null,
   "metadata": {},
   "outputs": [],
   "source": [
    "grade=87\n",
    "print(\"成績評鑑：\")\n",
    "if grade >= 90:     #if 87>= 90\n",
    "    print(\"優等\")   #true return 0;\n",
    "elif grade >=80:    #if 87>=80\n",
    "    print(\"甲等\")   #true return 0;\n",
    "elif grade >=70:    #if 87>=70\n",
    "    print(\"乙等\")   #true return 0;\n",
    "elif grade >=60:    #if 87>=60\n",
    "    print(\"丙等\")   #true return 0;\n",
    "else:               #fluse \n",
    "    print(\"不及格\") #return 0;\n"
   ]
  },
  {
   "cell_type": "markdown",
   "metadata": {},
   "source": [
    "## for 迴圈"
   ]
  },
  {
   "cell_type": "code",
   "execution_count": null,
   "metadata": {},
   "outputs": [],
   "source": [
    "#1+2+3...+10總和\n",
    "sum = 0\n",
    "#for(int i=1,i<11,i++)\n",
    "for count in range(1, 11, 1): #從1開始，間隔1, 不包含11\n",
    "    sum += count  # +=累加\n",
    "print(\"1+2+3+...+10 =\", sum)"
   ]
  },
  {
   "cell_type": "code",
   "execution_count": null,
   "metadata": {},
   "outputs": [],
   "source": [
    "#range另外一種寫法\n",
    "sum = 0\n",
    "#for(int i=1,i<11,i++)\n",
    "x=input(\"x=\")\n",
    "for count in range(int(x)): #1-10, 不包含11\n",
    "    sum += count\n",
    "print(\"1+2+3+...+\",x,\"10\"\" =\", sum)"
   ]
  },
  {
   "cell_type": "code",
   "execution_count": null,
   "metadata": {},
   "outputs": [],
   "source": [
    "a=\"for statement\"\n",
    "for c in a:        \n",
    "    print(c)\n",
    "print(\"--------\")\n",
    "\n",
    "a=\"for\",\"statement\"\n",
    "for c in a:           #for迴圈不用括號\n",
    "    print(c)\n",
    "    print(\"*******\")\n",
    "print(\"結束\")"
   ]
  },
  {
   "cell_type": "code",
   "execution_count": null,
   "metadata": {},
   "outputs": [],
   "source": [
    "for pl in [\"Java\", \"C#\", \"Python\"]:\n",
    "    print(pl)\n",
    "    print(\"*********\")\n",
    "print('結束')\n",
    "    \n"
   ]
  },
  {
   "cell_type": "markdown",
   "metadata": {},
   "source": [
    "### 雞兔同籠，若共有r個頭，t隻腳，請問有幾隻雞?幾隻兔?"
   ]
  },
  {
   "cell_type": "code",
   "execution_count": null,
   "metadata": {},
   "outputs": [],
   "source": [
    "r=input(\"r=\")   #動物數量\n",
    "t=input(\"t=\")   #腳  數量\n",
    "animel,t=int(r),int(t) #str轉int\n",
    "\n",
    "for chicken in range(0,animel): \n",
    "    rabbit=animel-chicken\n",
    "    if (2*chicken+4*rabbit) == t:\n",
    "        print(\"雞有\",chicken,\"隻,兔子有\",rabbit,\"隻\")\n",
    "        break #強制跳出 ❮整個❯ 迴圈\n",
    "else:\n",
    "        print(\"無解\")"
   ]
  },
  {
   "cell_type": "markdown",
   "metadata": {},
   "source": [
    "## while迴圈"
   ]
  },
  {
   "cell_type": "code",
   "execution_count": null,
   "metadata": {},
   "outputs": [],
   "source": [
    "sum=0\n",
    "number=input(\"請輸入數字\")\n",
    "count=int(number)\n",
    "while count >0: #1~coun\n",
    "    sum += count  # += 累加 count+(count-1)+(count-2).....+1\n",
    "    count -= 1    #-=累減   \n",
    "print(\"1+2+3+...+\",number,\"=\",sum)"
   ]
  },
  {
   "cell_type": "markdown",
   "metadata": {},
   "source": [
    "### 本金x元，定存年利率0.6%，請問多久銀行存款會翻倍"
   ]
  },
  {
   "cell_type": "code",
   "execution_count": null,
   "metadata": {},
   "outputs": [],
   "source": [
    "x=input(\"本金:\")\n",
    "x=int(x)\n",
    "y=int(x)\n",
    "years=0\n",
    "while x <= 2*y:\n",
    "    x=x*1.006\n",
    "    years += 1\n",
    "print(years, \"年以後，存款加倍，為\", int(x),\"元\")"
   ]
  },
  {
   "cell_type": "markdown",
   "metadata": {},
   "source": [
    "### 帳號密碼判斷"
   ]
  },
  {
   "cell_type": "code",
   "execution_count": null,
   "metadata": {},
   "outputs": [],
   "source": [
    "id=\"tony\"\n",
    "pwd=\"1234\"\n",
    "a=0\n",
    "while True:\n",
    "    x=input(\"請輸入帳號：\")\n",
    "    y=input(\"請輸入密碼：\")\n",
    "    if (x==id and y==pwd):\n",
    "        print(\"歡迎登入\")\n",
    "        break\n",
    "    else:\n",
    "        a+=1\n",
    "        print(\"帳號或密碼輸入錯誤\",a,\"次\")"
   ]
  },
  {
   "cell_type": "markdown",
   "metadata": {},
   "source": [
    "## 亂數"
   ]
  },
  {
   "cell_type": "code",
   "execution_count": null,
   "metadata": {},
   "outputs": [],
   "source": [
    "import random\n",
    "for i in range(0,10):   #迴圈10次\n",
    "    print(random.randint(-10,10)) #亂數-10~10"
   ]
  },
  {
   "cell_type": "markdown",
   "metadata": {},
   "source": [
    "### 猜硬幣"
   ]
  },
  {
   "cell_type": "code",
   "execution_count": 187,
   "metadata": {},
   "outputs": [
    {
     "name": "stdout",
     "output_type": "stream",
     "text": [
      "你猜對了 1 次\n",
      "你猜對了 2 次\n",
      "你猜錯了\n"
     ]
    }
   ],
   "source": [
    "import random\n",
    "number=random.randint(0,1)\n",
    "while True:\n",
    "    guess=int(input(\"請輸入0 or 1-->\"))\n",
    "    if guess == number:\n",
    "        a+=1\n",
    "        print(\"你猜對了\",a,\"次\")\n",
    "    else:\n",
    "        print(\"你猜錯了\")\n",
    "        break"
   ]
  },
  {
   "cell_type": "code",
   "execution_count": null,
   "metadata": {
    "collapsed": true
   },
   "outputs": [],
   "source": []
  },
  {
   "cell_type": "code",
   "execution_count": null,
   "metadata": {},
   "outputs": [],
   "source": []
  }
 ],
 "metadata": {
  "kernelspec": {
   "display_name": "Python 3",
   "language": "python",
   "name": "python3"
  },
  "language_info": {
   "codemirror_mode": {
    "name": "ipython",
    "version": 3
   },
   "file_extension": ".py",
   "mimetype": "text/x-python",
   "name": "python",
   "nbconvert_exporter": "python",
   "pygments_lexer": "ipython3",
   "version": "3.10.4"
  }
 },
 "nbformat": 4,
 "nbformat_minor": 4
}
