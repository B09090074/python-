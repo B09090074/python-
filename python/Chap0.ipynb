{
 "cells": [
  {
   "cell_type": "code",
   "execution_count": null,
   "metadata": {},
   "outputs": [],
   "source": [
    "#python為動態資料庫 不須事先宣告int\n",
    "#數字\n",
    "a=5\n",
    "b=3\n",
    "a+b\n"
   ]
  },
  {
   "cell_type": "code",
   "execution_count": null,
   "metadata": {
    "scrolled": true
   },
   "outputs": [],
   "source": [
    "#導入日曆資料庫\n",
    "import calendar\n",
    "#顯示日曆 月份 (2021.2)\n",
    "print(calendar.month(2022,4))"
   ]
  },
  {
   "cell_type": "code",
   "execution_count": null,
   "metadata": {},
   "outputs": [],
   "source": [
    "#python為動態資料庫 不須事先宣告 import calendar\n",
    "print(calendar.calendar(2022))"
   ]
  },
  {
   "cell_type": "code",
   "execution_count": null,
   "metadata": {},
   "outputs": [],
   "source": [
    "#requests 要事先安裝requests資料庫\n",
    "#在cmd輸入>pip install requests\n",
    "import requests\n",
    "#a訪問http://www.must.edu.tw\n",
    "a=requests.get(\"http://www.must.edu.tw\")\n",
    "#以文字檔顯示a\n",
    "print(a.text)"
   ]
  },
  {
   "cell_type": "code",
   "execution_count": null,
   "metadata": {},
   "outputs": [],
   "source": [
    "#requests 要事先安裝requests資料庫\n",
    "#在cmd輸入>pip install requests\n",
    "import webbrowser\n",
    "#b訪問\"https://random.dog/woof.json\"的url\n",
    "b=requests.get(\"https://random.dog/woof.json\").json()['url']\n",
    "#在瀏覽器開啟url\n",
    "webbrowser.open(b, new=0, autoraise=True)"
   ]
  },
  {
   "cell_type": "code",
   "execution_count": null,
   "metadata": {},
   "outputs": [],
   "source": [
    "#as 重新命名資料庫 避免指令過長\n",
    "#import  matplotlib.pyplot\n",
    "import  matplotlib.pyplot as qwe\n",
    "x=1,3,5,7\n",
    "y=[2,4,6,8] \n",
    "#matplotlib.pyplot.bar(x,y)\n",
    "qwe.bar(x,y)\n",
    "#matplotlib.pyplot.show()\n",
    "qwe.show()"
   ]
  },
  {
   "cell_type": "code",
   "execution_count": null,
   "metadata": {},
   "outputs": [],
   "source": [
    "#x y值會延續上次執行\n",
    "qwe.pie(x, labels=y)\n",
    "qwe.show()"
   ]
  },
  {
   "cell_type": "code",
   "execution_count": null,
   "metadata": {
    "collapsed": true
   },
   "outputs": [],
   "source": []
  }
 ],
 "metadata": {
  "kernelspec": {
   "display_name": "Python 3",
   "language": "python",
   "name": "python3"
  },
  "language_info": {
   "codemirror_mode": {
    "name": "ipython",
    "version": 3
   },
   "file_extension": ".py",
   "mimetype": "text/x-python",
   "name": "python",
   "nbconvert_exporter": "python",
   "pygments_lexer": "ipython3",
   "version": "3.10.4"
  }
 },
 "nbformat": 4,
 "nbformat_minor": 4
}
